{
 "cells": [
  {
   "cell_type": "code",
   "execution_count": 1,
   "metadata": {},
   "outputs": [
    {
     "name": "stdout",
     "output_type": "stream",
     "text": [
      "Cloning into 'ACE'...\n",
      "remote: Enumerating objects: 90, done.\u001b[K\n",
      "remote: Total 90 (delta 0), reused 0 (delta 0), pack-reused 90\u001b[K\n",
      "Unpacking objects: 100% (90/90), done.\n"
     ]
    }
   ],
   "source": [
    "#!git clone https://github.com/amiratag/ACE.git"
   ]
  },
  {
   "cell_type": "code",
   "execution_count": 2,
   "metadata": {},
   "outputs": [],
   "source": [
    "# This is the name of your model wrapper (InceptionV3 and GoogleNet are provided in model.py)\n",
    "model_to_run = 'GoogleNet'  \n",
    "user = 'teo'\n",
    "# the name of the parent directory that results are stored (only if you want to cache)\n",
    "project_name = 'tcav_class_test'\n",
    "working_dir = \"/tmp/\" + user + '/' + project_name\n",
    "# where activations are stored (only if your act_gen_wrapper does so)\n",
    "activation_dir =  working_dir + '/activations/'\n",
    "# where CAVs are stored. \n",
    "# You can say None if you don't wish to store any.\n",
    "cav_dir = working_dir + '/cavs/'\n",
    "\n",
    "source_dir = '/mnt/KInsektDaten/tcav/tcav/tcav_examples/image_models/imagenet/example'\n",
    "\n",
    "model_path  = source_dir + '/inception5h/tensorflow_inception_graph - Copy.pb'\n",
    "labels_path = source_dir + '/inception5h/imagenet_comp_graph_label_strings - Copy.txt'"
   ]
  },
  {
   "cell_type": "code",
   "execution_count": 13,
   "metadata": {},
   "outputs": [
    {
     "name": "stdout",
     "output_type": "stream",
     "text": [
      "Traceback (most recent call last):\r\n",
      "  File \"ace_run.py\", line 8, in <module>\r\n",
      "    from tcav import utils\r\n",
      "  File \"/mnt/KInsektDaten/teo/tcav/tcav/utils.py\", line 19, in <module>\r\n",
      "    import tensorflow as tf\r\n",
      "ModuleNotFoundError: No module named 'tensorflow'\r\n"
     ]
    }
   ],
   "source": [
    "!python3 ace_run.py --num_parallel_runs 0 --target_class zebra --source_dir source_dir --working_dir working_dir --model_to_run model_to_run --model_path model_path --labels_path labels_path --bottlenecks mixed4c --num_random_exp 11 --max_imgs 50 --min_imgs 30"
   ]
  },
  {
   "cell_type": "code",
   "execution_count": null,
   "metadata": {},
   "outputs": [],
   "source": [
    "python3 ace_run.py --num_parallel_workers 0 --target_class ladybug --source_dir 'tcav/tcav_examples/image_models/imagenet/example' --working_dir 'tcav/tcav_results/ace/ladybug' --model_to_run GoogleNet --model_path 'tcav/tcav_examples/image_models/imagenet/example/inception5h/tensorflow_inception_graph - Copy.pb' --labels_path 'tcav/tcav_examples/image_models/imagenet/example/inception5h/imagenet_comp_graph_label_strings - Copy.txt' --bottlenecks mixed4c --num_random_exp 11 --max_imgs 20 --min_imgs 10"
   ]
  },
  {
   "cell_type": "code",
   "execution_count": 10,
   "metadata": {},
   "outputs": [
    {
     "name": "stdout",
     "output_type": "stream",
     "text": [
      "/mnt/KInsektDaten/teo/tcav\r\n"
     ]
    }
   ],
   "source": [
    "!pwd"
   ]
  }
 ],
 "metadata": {
  "kernelspec": {
   "display_name": "tf2_gpu",
   "language": "python",
   "name": "tf2_gpu"
  },
  "language_info": {
   "codemirror_mode": {
    "name": "ipython",
    "version": 3
   },
   "file_extension": ".py",
   "mimetype": "text/x-python",
   "name": "python",
   "nbconvert_exporter": "python",
   "pygments_lexer": "ipython3",
   "version": "3.9.4"
  }
 },
 "nbformat": 4,
 "nbformat_minor": 4
}
